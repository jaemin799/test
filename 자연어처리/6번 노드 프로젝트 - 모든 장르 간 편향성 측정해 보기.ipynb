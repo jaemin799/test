{
 "cells": [
  {
   "cell_type": "code",
   "execution_count": 1,
   "id": "c7ce0faf",
   "metadata": {},
   "outputs": [],
   "source": [
    "import konlpy\n",
    "import gensim\n",
    "import sklearn\n",
    "import seaborn"
   ]
  },
  {
   "cell_type": "code",
   "execution_count": 2,
   "id": "117f5297",
   "metadata": {},
   "outputs": [
    {
     "name": "stdout",
     "output_type": "stream",
     "text": [
      "사운드 엔지니어 상우(유지태 분)는 치매에 걸린 할머니(백성희 분)와\n",
      " 젊은 시절 상처한 한 아버지(박인환 분), 고모(신신애 분)와 함께 살고 있다.\n",
      " 어느 겨울 그는 지방 방송국 라디오 PD 은수(이영애 분)를 만난다.\n",
      " 자연의 소리를 채집해 틀어주는 라디오 프로그램을 준비하는 은수는 상우와 녹음 여행을 떠난다.\n",
      " 자연스레 가까워지는 두 사람은 어느 날, 은수의 아파트에서 밤을 보낸다.\n",
      " 너무 쉽게 사랑에 빠진 두 사람... 상우는 주체할 수 없을 정도로 그녀에게 빨려든다.\n",
      " 그러나 겨울에 만난 두 사람의 관계는 봄을 지나 여름을 맞이하면서 삐걱거린다.\n",
      " 이혼 경험이 있는 은수는 상우에게 결혼할 생각이 없다며 부담스러운 표정을 내비친다.\n",
      " \"어떻게 사랑이 변하니?...\"라고 묻는 상우에게 은수는 그저 \"헤어져\" 라고 단호하게 말한다.\n",
      " 영원히 변할 것 같지 않던 사랑이 변하고, 그 사실을 받아들이지 못하는 상우는 어찌 할 바를 모른다.\n",
      " 은수를 잊지 못하는 상우는 미련과 집착의 감정을 이기지 못하고 서울과 강릉을 오간다.\n",
      "유사 이래 연령, 성별, 빈부의 차이와 정치적인 입장을 불문하고 일거에 국민을 통합해 온 '애국심'이라는 성역에 일침을 가하는 다큐멘터리. 재작년 전국 민족민주 유가족협의회의 장기농성을 다룬 인상적인 다큐멘터리 <민들레>를 만들었던 독립영화집단 '빨간 눈사람'이 우리 사회 구석구석을 발빠르게 돌아다니며 애국심과 민족주의가 강요되는 현장을 발굴하여 카메라에 담았다. 박홍 서강대 명예총장, 이도형 '한국논단' 발행인, 축구해설자 신문선, 홍세화, 박노해 등 사회 각계의 '스타'들이 등장해 저마다의 확고한 신념을 성토한다. 감독 이경순과 최하동하는 이 작품을 위해 3년간 백여 명을 인터뷰했다고 한다. 2001 올해의 독립영화상 수상.\n",
      " 민족과 국가란 공동체에서 부단히 권력과 부를 얻는 자, 나아가 민족과 국가란 공동체에서 얻은 신분과 부귀를 영원히 그의 자손에게 대물림하려는 자, 그래서 민족과 국가란 공동체를 부단히 유지해야만 하는 자, 따라서 민족과 국가란 공동체의 당위성과 개인의 가치를 초월하는 그 존엄성을 끝도 없이 창조하고 되뇌어야 하는 자, 종국에는 민족과 국가란 공동체에 속해 있다고 태내에서부터 세뇌된 모든 이들의 삶과 행동에서 영원히 자기복제되는 순환의 고리, 영생하는 애국의 원동력은 그 순환의 골에서 온다.\n",
      "엽기적인 살인사건이 발생한 장소를 관광하는 투어팀. 그 팀에서 관광객들은 살인사건과 관련하여 히스테리컬한 반응을 보이는데 과연 이들의 정체는? (Tourists see whrer a murder take place. They respond hysterically to the murder…what are they?)\n",
      " 제46회 발라돌리드 국제영화제 (2001, 스페인)\n",
      "착하지만 엉뚱한 태희(배두나 분), 예쁜 깍쟁이 혜주(이요원 분), 그림을 잘 그리는 지영(옥지영 분), 명랑한 쌍둥이 비류(이은실 분)와 온조(이은주 분)는 단짝친구들. 늘 함께였던 그들이지만 스무 살이 되면서 길이 달라진다. 증권회사에 입사한 혜주는 성공한 커리어우먼의 야심을 키우고 미술에 재능이 있는 지영은 유학을 꿈꾼다. 한편 태희는 봉사활동에서 알게 된 뇌성마비 시인을 좋아하는데...\n",
      "  어느 날 지영이 길 잃은 새끼 고양이 티티를 만남면서 스무 살 그녀들의 삶에 고양이 한 마리가 끼어들게 된다. 혼자 있길 좋아하고, 쉽게 마음을 열지 않는 신비로운 동물 고양이. 고양이를 닮은 스무 살 그녀들. 고양이 티티와 함께 한 시간동안 삶은 예상못한 방향으로 흘러가지만 마침내 그녀들만의 해결책을 찾게 되는데... 사랑스런 몽상가 태희, 아름다운 야심가 혜주, 신비로운 아웃사이더 지영. 마지막으로 고양이를 부탁받은 사람은 누구일까?\n",
      "인도 등 아시아 식민지에 처음 발을 디딘 뒤 여행하고 “경영”한 이들은 과연 누구였을까? 과거의 이미지들은, 이민과 인종 문제, ‘오리엔탈리즘’이 격렬히 충돌하고 있는 현재와 강력하게 공명한다.\n",
      " [제19회 인디다큐페스티발]\n",
      "홀로 살아가는 미국 할머니와 한국 할머니의 이야기. 공원에서 가끔 마주치게 되는 그들은 비록 언어 소통의 어려움을 겪지만 시간이 흘러감에 따라 서로 가까워져 그들의 외로움과 우정을 공유하게 된다. 겨울이 지나고 봄이 왔을 때 길가의 민들레 홀씨는 삶의 이치를 말해주듯 한 할머니의 주위를 맴돈다. (Two elderly widows, an American and a Korean, frequent the same park in Philadelphia and attempt a friendship, though the Korean widow speaks no English. Driven by loneliness and a spark of hope, they persevere within the limits of body language, and the outcome poses a question of life as fundamental as a flower.)\n"
     ]
    }
   ],
   "source": [
    "import os\n",
    "\n",
    "with open(os.getenv(\"HOME\")+\"/aiffel/weat/synopsis.txt\", 'r') as file:\n",
    "    for i in range(20):\n",
    "        print(file.readline(), end='')"
   ]
  },
  {
   "cell_type": "code",
   "execution_count": 3,
   "id": "4abab026",
   "metadata": {},
   "outputs": [],
   "source": [
    "#형태소 분석기를 이용. 명사 단어 추출\n",
    "\n",
    "from konlpy.tag import Okt\n",
    "okt = Okt()\n",
    "tokenized = []\n",
    "with open(os.getenv('HOME')+\"/aiffel/weat/synopsis.txt\", 'r') as file:\n",
    "    while True:\n",
    "        line = file.readline()\n",
    "        if not line: break\n",
    "        words = okt.pos(line, stem=True, norm=True)\n",
    "        res = []\n",
    "        for w in words:\n",
    "            if w[1] in [\"Noun\"]:\n",
    "                res.append(w[0])\n",
    "        tokenized.append(res)"
   ]
  },
  {
   "cell_type": "code",
   "execution_count": 4,
   "id": "32f8b8fe",
   "metadata": {},
   "outputs": [
    {
     "name": "stdout",
     "output_type": "stream",
     "text": [
      "71156\n"
     ]
    }
   ],
   "source": [
    "print(len(tokenized))"
   ]
  },
  {
   "cell_type": "code",
   "execution_count": 5,
   "id": "2620164f",
   "metadata": {},
   "outputs": [
    {
     "name": "stdout",
     "output_type": "stream",
     "text": [
      "['사운드', '엔지니어', '상우', '유지태', '분', '치매', '할머니', '백성희', '분']\n"
     ]
    }
   ],
   "source": [
    "print(tokenized[0])"
   ]
  },
  {
   "cell_type": "code",
   "execution_count": 6,
   "id": "cd5f1c60",
   "metadata": {},
   "outputs": [
    {
     "data": {
      "text/plain": [
       "[('작품', 0.890437126159668),\n",
       " ('다큐멘터리', 0.845380961894989),\n",
       " ('드라마', 0.8237860798835754),\n",
       " ('영화로', 0.815334677696228),\n",
       " ('형식', 0.7895810604095459),\n",
       " ('주제', 0.7888548374176025),\n",
       " ('코미디', 0.7849490642547607),\n",
       " ('소재', 0.7718026041984558),\n",
       " ('인터뷰', 0.7670367360115051),\n",
       " ('영상', 0.7594538331031799)]"
      ]
     },
     "execution_count": 6,
     "metadata": {},
     "output_type": "execute_result"
    }
   ],
   "source": [
    "# 추출된 결과로 embedding model 만들기\n",
    "\n",
    "from gensim.models import Word2Vec\n",
    "\n",
    "model = Word2Vec(tokenized, vector_size=100, window=5, min_count=3, sg=0)\n",
    "model.wv.most_similar(positive=['영화'])"
   ]
  },
  {
   "cell_type": "code",
   "execution_count": 7,
   "id": "5942ec1a",
   "metadata": {},
   "outputs": [
    {
     "data": {
      "text/plain": [
       "[('참사', 0.93365478515625),\n",
       " ('내전', 0.9170108437538147),\n",
       " ('자행', 0.9105768203735352),\n",
       " ('분쟁', 0.9094862341880798),\n",
       " ('붕괴', 0.907870352268219),\n",
       " ('민간인', 0.9036487340927124),\n",
       " ('이스라엘', 0.9022499322891235),\n",
       " ('세월호', 0.8999674320220947),\n",
       " ('체첸', 0.8982575535774231),\n",
       " ('계엄령', 0.8947084546089172)]"
      ]
     },
     "execution_count": 7,
     "metadata": {},
     "output_type": "execute_result"
    }
   ],
   "source": [
    "model.wv.most_similar(positive=[\"학살\"])"
   ]
  },
  {
   "cell_type": "code",
   "execution_count": 10,
   "id": "eaaead8d",
   "metadata": {},
   "outputs": [
    {
     "data": {
      "text/plain": [
       "[('생명', 0.8534320592880249),\n",
       " ('구원', 0.8529910445213318),\n",
       " ('물리', 0.8305522799491882),\n",
       " ('악마', 0.8269953727722168),\n",
       " ('신의', 0.8260921239852905),\n",
       " ('인류', 0.8080534934997559),\n",
       " ('절대', 0.7979838848114014),\n",
       " ('외계생명체', 0.7978266477584839),\n",
       " ('악', 0.797724187374115),\n",
       " ('동물', 0.7920219898223877)]"
      ]
     },
     "execution_count": 10,
     "metadata": {},
     "output_type": "execute_result"
    }
   ],
   "source": [
    "model.wv.most_similar(positive=[\"힘\"])"
   ]
  },
  {
   "cell_type": "code",
   "execution_count": 13,
   "id": "d7abd0e1",
   "metadata": {},
   "outputs": [],
   "source": [
    "from sklearn.feature_extraction.text import TfidfVectorizer\n",
    "import numpy as np\n",
    "from konlpy.tag import Okt\n",
    "\n",
    "art_txt = 'synopsis_art.txt'\n",
    "gen_txt = 'synopsis_gen.txt'\n",
    "\n",
    "def read_token(file_name):\n",
    "    okt = Okt()\n",
    "    result = []\n",
    "    with open(os.getenv('HOME') + \"/aiffel/weat/\"+file_name, 'r') as fread:\n",
    "        print(file_name, \"파일을 읽고 있습니다.\")\n",
    "        while True:\n",
    "            line = fread.readline()\n",
    "            if not line: break\n",
    "            tokenlist = okt.pos(line, stem=True, norm=True)\n",
    "            for word in tokenlist:\n",
    "                if word[1] in [\"Noun\"]:\n",
    "                    result.append((word[0]))\n",
    "        return ' '.join(result)"
   ]
  },
  {
   "cell_type": "code",
   "execution_count": 14,
   "id": "83afb9c5",
   "metadata": {},
   "outputs": [
    {
     "name": "stdout",
     "output_type": "stream",
     "text": [
      "synopsis_art.txt 파일을 읽고 있습니다.\n",
      "synopsis_gen.txt 파일을 읽고 있습니다.\n"
     ]
    }
   ],
   "source": [
    "art = read_token(art_txt)\n",
    "gen = read_token(gen_txt)"
   ]
  },
  {
   "cell_type": "code",
   "execution_count": 15,
   "id": "6049d9e6",
   "metadata": {},
   "outputs": [
    {
     "name": "stdout",
     "output_type": "stream",
     "text": [
      "(2, 41082)\n"
     ]
    }
   ],
   "source": [
    "vectorizer = TfidfVectorizer()\n",
    "X = vectorizer.fit_transform([art, gen])\n",
    "\n",
    "print(X.shape)"
   ]
  },
  {
   "cell_type": "code",
   "execution_count": 17,
   "id": "dbbc52dd",
   "metadata": {},
   "outputs": [
    {
     "name": "stdout",
     "output_type": "stream",
     "text": [
      "23976\n",
      "영화\n"
     ]
    },
    {
     "name": "stderr",
     "output_type": "stream",
     "text": [
      "/opt/conda/lib/python3.9/site-packages/sklearn/utils/deprecation.py:87: FutureWarning: Function get_feature_names is deprecated; get_feature_names is deprecated in 1.0 and will be removed in 1.2. Please use get_feature_names_out instead.\n",
      "  warnings.warn(msg, category=FutureWarning)\n"
     ]
    }
   ],
   "source": [
    "print(vectorizer.vocabulary_[\"영화\"])\n",
    "print(vectorizer.get_feature_names()[23976])"
   ]
  },
  {
   "cell_type": "code",
   "execution_count": 19,
   "id": "4879b78c",
   "metadata": {},
   "outputs": [
    {
     "name": "stdout",
     "output_type": "stream",
     "text": [
      "예술영화를 대표하는 단어들:\n",
      "그녀, 자신, 시작, 위해, 사랑, 사람, 영화, 친구, 남자, 가족, 이야기, 마을, 사건, 마음, 세상, 아버지, 아이, 엄마, 모든, 여자, 대한, 서로, 과연, 다시, 시간, 아들, 소녀, 아내, 다른, 사이, 영화제, 세계, 사실, 하나, 점점, 남편, 감독, 여행, 인생, 발견, 모두, 순간, 우리, 가장, 마지막, 생활, 아빠, 모습, 통해, 죽음, 기억, 비밀, 학교, 음악, 한편, 소년, 생각, 도시, 명의, 사고, 결혼, 전쟁, 때문, 위기, 이제, 최고, 이자, 과거, 일상, 경찰, 상황, 간다, 미국, 결심, 운명, 현실, 관계, 지금, 단편, 여인, 하루, 이름, 이후, 준비, 인간, 감정, 만난, 국제, 처음, 충격, 살인, 누구, 동안, 존재, 그린, 어머니, 연인, 계속, 동생, 작품, \n",
      "\n",
      "일반영화를 대표하는 단어들:\n",
      "자신, 그녀, 영화제, 위해, 사람, 시작, 국제, 영화, 친구, 사랑, 남자, 이야기, 대한, 서울, 여자, 사건, 남편, 아이, 가족, 아버지, 다른, 마을, 시간, 엄마, 아들, 모든, 단편, 마음, 사실, 다시, 세계, 모습, 작품, 통해, 생각, 서로, 세상, 발견, 감독, 아내, 관계, 소녀, 사이, 하나, 우리, 애니메이션, 때문, 여성, 죽음, 과연, 점점, 인간, 생활, 한편, 결혼, 상황, 모두, 기억, 명의, 소년, 여행, 가장, 간다, 순간, 이제, 도시, 비밀, 학교, 과거, 가지, 이자, 경찰, 마지막, 미국, 동안, 전쟁, 주인공, 대해, 존재, 현실, 연출, 사고, 살인, 일상, 어머니, 계속, 사회, 인생, 다큐멘터리, 부문, 섹스, 최고, 바로, 동생, 의도, 하루, 위기, 계획, 정체, 한국, "
     ]
    }
   ],
   "source": [
    "m1 = X[0].tocoo()\n",
    "m2 = X[1].tocoo()\n",
    "\n",
    "w1 = [[i, j] for i, j in zip(m1.col, m1.data)]\n",
    "w2 = [[i, j] for i, j in zip(m2.col, m2.data)]\n",
    "\n",
    "w1.sort(key=lambda x: x[1], reverse=True)\n",
    "w2.sort(key=lambda x: x[1], reverse=True)\n",
    "\n",
    "print(\"예술영화를 대표하는 단어들:\")\n",
    "for i in range(100):\n",
    "    print(vectorizer.get_feature_names()[w1[i][0]], end=', ')\n",
    "    \n",
    "print('\\n')\n",
    "\n",
    "print(\"일반영화를 대표하는 단어들:\")\n",
    "for i in range(100):\n",
    "    print(vectorizer.get_feature_names()[w2[i][0]], end=', ')"
   ]
  },
  {
   "cell_type": "code",
   "execution_count": 20,
   "id": "e326fa1a",
   "metadata": {},
   "outputs": [],
   "source": [
    "n = 15\n",
    "w1_, w2_ = [], []\n",
    "for i in range(100):\n",
    "    w1_.append(vectorizer.get_feature_names()[w1[i][0]])\n",
    "    w2_.append(vectorizer.get_feature_names()[w2[i][0]])\n",
    "    \n",
    "target_art, target_gen = [], []\n",
    "for i in range(100):\n",
    "    if (w1_[i] not in w2_) and (w1_[i] in model.wv):\n",
    "        target_art.append(w1_[i])\n",
    "    if len(target_art) == n: break\n",
    "        \n",
    "for i in range(100):\n",
    "    if (w2_[i] not in w1_) and (w2_[i] in model.wv):\n",
    "        target_gen.append(w2_[i])\n",
    "    if len(target_gen) == n: break"
   ]
  },
  {
   "cell_type": "code",
   "execution_count": 21,
   "id": "bcc3aec1",
   "metadata": {},
   "outputs": [
    {
     "name": "stdout",
     "output_type": "stream",
     "text": [
      "['아빠', '음악', '결심', '운명', '지금', '여인', '이름', '이후', '준비', '감정', '만난', '처음', '충격', '누구', '그린']\n"
     ]
    }
   ],
   "source": [
    "print(target_art)"
   ]
  },
  {
   "cell_type": "code",
   "execution_count": 22,
   "id": "591b1ab1",
   "metadata": {},
   "outputs": [
    {
     "name": "stdout",
     "output_type": "stream",
     "text": [
      "['서울', '애니메이션', '여성', '가지', '주인공', '대해', '연출', '사회', '다큐멘터리', '부문', '섹스', '바로', '의도', '계획', '정체']\n"
     ]
    }
   ],
   "source": [
    "print(target_gen)"
   ]
  },
  {
   "cell_type": "code",
   "execution_count": 40,
   "id": "8c4233ca",
   "metadata": {},
   "outputs": [],
   "source": [
    "genre_txt = ['synopsis_SF.txt', 'synopsis_family.txt', 'synopsis_show.txt', 'synopsis_horror.txt', 'synopsis_etc.txt', \n",
    "             'synopsis_documentary.txt', 'synopsis_drama.txt', 'synopsis_romance.txt', 'synopsis_musical.txt', \n",
    "             'synopsis_mystery.txt', 'synopsis_crime.txt', 'synopsis_historical.txt', 'synopsis_western.txt', \n",
    "             'synopsis_adult.txt', 'synopsis_thriller.txt', 'synopsis_animation.txt', 'synopsis_action.txt', \n",
    "             'synopsis_adventure.txt', 'synopsis_war.txt', 'synopsis_comedy.txt', 'synopsis_fantasy.txt']\n",
    "genre_name = ['SF', '가족', '공연', '공포(호러)', '기타', '다큐멘터리', '드라마', '멜로로맨스', '뮤지컬', '미스터리', '범죄', '사극', '서부극(웨스턴)',\n",
    "         '성인물(에로)', '스릴러', '애니메이션', '액션', '어드벤처', '전쟁', '코미디', '판타지']"
   ]
  },
  {
   "cell_type": "code",
   "execution_count": 41,
   "id": "7927611a",
   "metadata": {},
   "outputs": [
    {
     "name": "stdout",
     "output_type": "stream",
     "text": [
      "synopsis_SF.txt 파일을 읽고 있습니다.\n",
      "synopsis_family.txt 파일을 읽고 있습니다.\n",
      "synopsis_show.txt 파일을 읽고 있습니다.\n",
      "synopsis_horror.txt 파일을 읽고 있습니다.\n",
      "synopsis_etc.txt 파일을 읽고 있습니다.\n",
      "synopsis_documentary.txt 파일을 읽고 있습니다.\n",
      "synopsis_drama.txt 파일을 읽고 있습니다.\n",
      "synopsis_romance.txt 파일을 읽고 있습니다.\n",
      "synopsis_musical.txt 파일을 읽고 있습니다.\n",
      "synopsis_mystery.txt 파일을 읽고 있습니다.\n",
      "synopsis_crime.txt 파일을 읽고 있습니다.\n",
      "synopsis_historical.txt 파일을 읽고 있습니다.\n",
      "synopsis_western.txt 파일을 읽고 있습니다.\n",
      "synopsis_adult.txt 파일을 읽고 있습니다.\n",
      "synopsis_thriller.txt 파일을 읽고 있습니다.\n",
      "synopsis_animation.txt 파일을 읽고 있습니다.\n",
      "synopsis_action.txt 파일을 읽고 있습니다.\n",
      "synopsis_adventure.txt 파일을 읽고 있습니다.\n",
      "synopsis_war.txt 파일을 읽고 있습니다.\n",
      "synopsis_comedy.txt 파일을 읽고 있습니다.\n",
      "synopsis_fantasy.txt 파일을 읽고 있습니다.\n"
     ]
    }
   ],
   "source": [
    "genre = []\n",
    "for file_name in genre_txt:\n",
    "    genre.append(read_token(file_name))"
   ]
  },
  {
   "cell_type": "code",
   "execution_count": 42,
   "id": "ecd6547d",
   "metadata": {},
   "outputs": [
    {
     "name": "stdout",
     "output_type": "stream",
     "text": [
      "(21, 42191)\n"
     ]
    }
   ],
   "source": [
    "vectorizer = TfidfVectorizer()\n",
    "X = vectorizer.fit_transform(genre)\n",
    "\n",
    "print(X.shape)"
   ]
  },
  {
   "cell_type": "code",
   "execution_count": 56,
   "id": "655be166",
   "metadata": {},
   "outputs": [
    {
     "name": "stdout",
     "output_type": "stream",
     "text": [
      "SF: 애거, 바오, 시민군, 빈틈, 관해, 윤설희, 아리, 살살, 년도, 산악, 삼헌, 버스정류장, 뱅크스, 보랏, 별거, \n",
      "가족: 바오, 애거, 빈틈, 윤설희, 시민군, 병욱, 검은색, 뱅크스, 산림, 고해, 무시, 살살, 박기웅, 낙관, 산악, \n",
      "공연: 시민군, 애거, 빈틈, 윤설희, 레슬링, 박기웅, 살살, 발단, 오마쥬, 산악, 알갱이, 스에코, 미켈, 낙관, 바오, \n",
      "공포(호러): 애거, 빈틈, 시민군, 바오, 윤설희, 아리, 아쿠아리움, 삼헌, 살살, 레슬링, 검은색, 뱅크스, 박기웅, 년도, 관해, \n",
      "기타: 시민군, 빈틈, 액션, 무법천지, 시빌라, 애거, 고등, 알갱이, 손녀, 리메이크, 리롱, 광장공포증, 벽난로, 오즈, 널리, \n",
      "다큐멘터리: 빈틈, 시민군, 애거, 윤설희, 고양, 오마쥬, 조선시대, 박기웅, 보랏, 발단, 삼헌, 영업일, 미켈, 아리, 레더, \n"
     ]
    }
   ],
   "source": [
    "w = [[[i, j] for i, j in zip(mm.col, mm.data)] for mm in m]\n",
    "\n",
    "for i in range(len(w)):\n",
    "    w[i].sort(key=lambda x: x[1], reverse=True)\n",
    "attributes = []\n",
    "for i in range(len(w)):\n",
    "    print(genre_name[i], end=': ')\n",
    "    attr = []\n",
    "    j = 0\n",
    "    while (len(attr) < 15):\n",
    "        if vectorizer.get_feature_names()[w[i][j][0]] in model.wv:\n",
    "            attr.append(vectorizer.get_feature_names()[w[i][j][0]])\n",
    "            print(vectorizer.get_feature_names()[w[i][j][0]], end=', ')\n",
    "        j += 1\n",
    "    attributes.append(attr)\n",
    "    print()"
   ]
  },
  {
   "cell_type": "code",
   "execution_count": 57,
   "id": "d1a5ba4f",
   "metadata": {},
   "outputs": [
    {
     "data": {
      "text/plain": [
       "['애거',\n",
       " '바오',\n",
       " '시민군',\n",
       " '빈틈',\n",
       " '관해',\n",
       " '윤설희',\n",
       " '아리',\n",
       " '살살',\n",
       " '년도',\n",
       " '산악',\n",
       " '삼헌',\n",
       " '버스정류장',\n",
       " '뱅크스',\n",
       " '보랏',\n",
       " '별거']"
      ]
     },
     "execution_count": 57,
     "metadata": {},
     "output_type": "execute_result"
    }
   ],
   "source": [
    "attributes[0]"
   ]
  },
  {
   "cell_type": "code",
   "execution_count": 58,
   "id": "a90e2878",
   "metadata": {},
   "outputs": [
    {
     "data": {
      "text/plain": [
       "'애거'"
      ]
     },
     "execution_count": 58,
     "metadata": {},
     "output_type": "execute_result"
    }
   ],
   "source": [
    "attributes[0][0]"
   ]
  },
  {
   "cell_type": "markdown",
   "id": "cebcc32a",
   "metadata": {},
   "source": [
    "# WEAT_score"
   ]
  },
  {
   "cell_type": "code",
   "execution_count": 59,
   "id": "c6504b2c",
   "metadata": {},
   "outputs": [],
   "source": [
    "matrix = [[0 for _ in range(len(genre_name))] for _ in range(len(genre_name))]"
   ]
  },
  {
   "cell_type": "code",
   "execution_count": 60,
   "id": "bb6bb368",
   "metadata": {},
   "outputs": [
    {
     "ename": "IndexError",
     "evalue": "list index out of range",
     "output_type": "error",
     "traceback": [
      "\u001b[0;31m---------------------------------------------------------------------------\u001b[0m",
      "\u001b[0;31mIndexError\u001b[0m                                Traceback (most recent call last)",
      "\u001b[0;32m/tmp/ipykernel_41/297451179.py\u001b[0m in \u001b[0;36m<module>\u001b[0;34m\u001b[0m\n\u001b[1;32m     29\u001b[0m     \u001b[0;32mfor\u001b[0m \u001b[0mj\u001b[0m \u001b[0;32min\u001b[0m \u001b[0mrange\u001b[0m\u001b[0;34m(\u001b[0m\u001b[0mi\u001b[0m\u001b[0;34m+\u001b[0m\u001b[0;36m1\u001b[0m\u001b[0;34m,\u001b[0m \u001b[0mlen\u001b[0m\u001b[0;34m(\u001b[0m\u001b[0mgenre_name\u001b[0m\u001b[0;34m)\u001b[0m\u001b[0;34m)\u001b[0m\u001b[0;34m:\u001b[0m\u001b[0;34m\u001b[0m\u001b[0;34m\u001b[0m\u001b[0m\n\u001b[1;32m     30\u001b[0m         \u001b[0mA\u001b[0m \u001b[0;34m=\u001b[0m \u001b[0mnp\u001b[0m\u001b[0;34m.\u001b[0m\u001b[0marray\u001b[0m\u001b[0;34m(\u001b[0m\u001b[0;34m[\u001b[0m\u001b[0mmodel\u001b[0m\u001b[0;34m.\u001b[0m\u001b[0mwv\u001b[0m\u001b[0;34m[\u001b[0m\u001b[0mword\u001b[0m\u001b[0;34m]\u001b[0m \u001b[0;32mfor\u001b[0m \u001b[0mword\u001b[0m \u001b[0;32min\u001b[0m \u001b[0mattributes\u001b[0m\u001b[0;34m[\u001b[0m\u001b[0mi\u001b[0m\u001b[0;34m]\u001b[0m\u001b[0;34m]\u001b[0m\u001b[0;34m)\u001b[0m\u001b[0;34m\u001b[0m\u001b[0;34m\u001b[0m\u001b[0m\n\u001b[0;32m---> 31\u001b[0;31m         \u001b[0mB\u001b[0m \u001b[0;34m=\u001b[0m \u001b[0mnp\u001b[0m\u001b[0;34m.\u001b[0m\u001b[0marray\u001b[0m\u001b[0;34m(\u001b[0m\u001b[0;34m[\u001b[0m\u001b[0mmodel\u001b[0m\u001b[0;34m.\u001b[0m\u001b[0mwv\u001b[0m\u001b[0;34m[\u001b[0m\u001b[0mword\u001b[0m\u001b[0;34m]\u001b[0m \u001b[0;32mfor\u001b[0m \u001b[0mword\u001b[0m \u001b[0;32min\u001b[0m \u001b[0mattributes\u001b[0m\u001b[0;34m[\u001b[0m\u001b[0mj\u001b[0m\u001b[0;34m]\u001b[0m\u001b[0;34m]\u001b[0m\u001b[0;34m)\u001b[0m\u001b[0;34m\u001b[0m\u001b[0;34m\u001b[0m\u001b[0m\n\u001b[0m\u001b[1;32m     32\u001b[0m         \u001b[0mmatrix\u001b[0m\u001b[0;34m[\u001b[0m\u001b[0mi\u001b[0m\u001b[0;34m]\u001b[0m\u001b[0;34m[\u001b[0m\u001b[0mj\u001b[0m\u001b[0;34m]\u001b[0m \u001b[0;34m=\u001b[0m \u001b[0mweat_score\u001b[0m\u001b[0;34m(\u001b[0m\u001b[0mX\u001b[0m\u001b[0;34m,\u001b[0m \u001b[0mY\u001b[0m\u001b[0;34m,\u001b[0m \u001b[0mA\u001b[0m\u001b[0;34m,\u001b[0m \u001b[0mB\u001b[0m\u001b[0;34m)\u001b[0m\u001b[0;34m\u001b[0m\u001b[0;34m\u001b[0m\u001b[0m\n",
      "\u001b[0;31mIndexError\u001b[0m: list index out of range"
     ]
    }
   ],
   "source": [
    "import numpy as np\n",
    "from numpy import dot\n",
    "from numpy.linalg import norm\n",
    "\n",
    "X = np.array([model.wv[word] for word in target_art])\n",
    "Y = np.array([model.wv[word] for word in target_gen])\n",
    "\n",
    "def cos_sim(i, j):\n",
    "    return dot(i, j.T)/(norm(i)*norm(j))\n",
    "\n",
    "def s(w, A, B):\n",
    "    c_a = cos_sim(w, A)\n",
    "    c_b = cos_sim(w, B)\n",
    "    mean_A = np.mean(c_a, axis=-1)\n",
    "    mean_B = np.mean(c_b, axis=-1)\n",
    "    return mean_A - mean_B\n",
    "\n",
    "def weat_score(X, Y, A, B):\n",
    "    s_X = s(X, A, B)\n",
    "    s_Y = s(Y, A, B)\n",
    "    \n",
    "    mean_X = np.mean(s_X)\n",
    "    mean_Y = np.mean(s_Y)\n",
    "    \n",
    "    std_dev = np.std(np.concatenate([s_X, s_Y], axis=0))\n",
    "    return (mean_X-mean_Y)/std_dev\n",
    "\n",
    "for i in range(len(genre_name)-1):\n",
    "    for j in range(i+1, len(genre_name)):\n",
    "        A = np.array([model.wv[word] for word in attributes[i]])\n",
    "        B = np.array([model.wv[word] for word in attributes[j]])\n",
    "        matrix[i][j] = weat_score(X, Y, A, B)"
   ]
  },
  {
   "cell_type": "code",
   "execution_count": 49,
   "id": "6fb68368",
   "metadata": {},
   "outputs": [
    {
     "name": "stdout",
     "output_type": "stream",
     "text": [
      "SF 가족 -0.012605722\n",
      "SF 공연 0.9308848\n",
      "SF 공포(호러) 0.43929425\n",
      "SF 기타 -0.012288626\n",
      "SF 다큐멘터리 0.42405394\n",
      "SF 드라마 0\n",
      "SF 멜로로맨스 0\n",
      "SF 뮤지컬 0\n",
      "SF 미스터리 0\n",
      "SF 범죄 0\n",
      "SF 사극 0\n",
      "SF 서부극(웨스턴) 0\n",
      "SF 성인물(에로) 0\n",
      "SF 스릴러 0\n",
      "SF 애니메이션 0\n",
      "SF 액션 0\n",
      "SF 어드벤처 0\n",
      "SF 전쟁 0\n",
      "SF 코미디 0\n",
      "SF 판타지 0\n",
      "가족 공연 0\n",
      "가족 공포(호러) 0\n",
      "가족 기타 0\n",
      "가족 다큐멘터리 0\n",
      "가족 드라마 0\n",
      "가족 멜로로맨스 0\n",
      "가족 뮤지컬 0\n",
      "가족 미스터리 0\n",
      "가족 범죄 0\n",
      "가족 사극 0\n",
      "가족 서부극(웨스턴) 0\n",
      "가족 성인물(에로) 0\n",
      "가족 스릴러 0\n",
      "가족 애니메이션 0\n",
      "가족 액션 0\n",
      "가족 어드벤처 0\n",
      "가족 전쟁 0\n",
      "가족 코미디 0\n",
      "가족 판타지 0\n",
      "공연 공포(호러) 0\n",
      "공연 기타 0\n",
      "공연 다큐멘터리 0\n",
      "공연 드라마 0\n",
      "공연 멜로로맨스 0\n",
      "공연 뮤지컬 0\n",
      "공연 미스터리 0\n",
      "공연 범죄 0\n",
      "공연 사극 0\n",
      "공연 서부극(웨스턴) 0\n",
      "공연 성인물(에로) 0\n",
      "공연 스릴러 0\n",
      "공연 애니메이션 0\n",
      "공연 액션 0\n",
      "공연 어드벤처 0\n",
      "공연 전쟁 0\n",
      "공연 코미디 0\n",
      "공연 판타지 0\n",
      "공포(호러) 기타 0\n",
      "공포(호러) 다큐멘터리 0\n",
      "공포(호러) 드라마 0\n",
      "공포(호러) 멜로로맨스 0\n",
      "공포(호러) 뮤지컬 0\n",
      "공포(호러) 미스터리 0\n",
      "공포(호러) 범죄 0\n",
      "공포(호러) 사극 0\n",
      "공포(호러) 서부극(웨스턴) 0\n",
      "공포(호러) 성인물(에로) 0\n",
      "공포(호러) 스릴러 0\n",
      "공포(호러) 애니메이션 0\n",
      "공포(호러) 액션 0\n",
      "공포(호러) 어드벤처 0\n",
      "공포(호러) 전쟁 0\n",
      "공포(호러) 코미디 0\n",
      "공포(호러) 판타지 0\n",
      "기타 다큐멘터리 0\n",
      "기타 드라마 0\n",
      "기타 멜로로맨스 0\n",
      "기타 뮤지컬 0\n",
      "기타 미스터리 0\n",
      "기타 범죄 0\n",
      "기타 사극 0\n",
      "기타 서부극(웨스턴) 0\n",
      "기타 성인물(에로) 0\n",
      "기타 스릴러 0\n",
      "기타 애니메이션 0\n",
      "기타 액션 0\n",
      "기타 어드벤처 0\n",
      "기타 전쟁 0\n",
      "기타 코미디 0\n",
      "기타 판타지 0\n",
      "다큐멘터리 드라마 0\n",
      "다큐멘터리 멜로로맨스 0\n",
      "다큐멘터리 뮤지컬 0\n",
      "다큐멘터리 미스터리 0\n",
      "다큐멘터리 범죄 0\n",
      "다큐멘터리 사극 0\n",
      "다큐멘터리 서부극(웨스턴) 0\n",
      "다큐멘터리 성인물(에로) 0\n",
      "다큐멘터리 스릴러 0\n",
      "다큐멘터리 애니메이션 0\n",
      "다큐멘터리 액션 0\n",
      "다큐멘터리 어드벤처 0\n",
      "다큐멘터리 전쟁 0\n",
      "다큐멘터리 코미디 0\n",
      "다큐멘터리 판타지 0\n",
      "드라마 멜로로맨스 0\n",
      "드라마 뮤지컬 0\n",
      "드라마 미스터리 0\n",
      "드라마 범죄 0\n",
      "드라마 사극 0\n",
      "드라마 서부극(웨스턴) 0\n",
      "드라마 성인물(에로) 0\n",
      "드라마 스릴러 0\n",
      "드라마 애니메이션 0\n",
      "드라마 액션 0\n",
      "드라마 어드벤처 0\n",
      "드라마 전쟁 0\n",
      "드라마 코미디 0\n",
      "드라마 판타지 0\n",
      "멜로로맨스 뮤지컬 0\n",
      "멜로로맨스 미스터리 0\n",
      "멜로로맨스 범죄 0\n",
      "멜로로맨스 사극 0\n",
      "멜로로맨스 서부극(웨스턴) 0\n",
      "멜로로맨스 성인물(에로) 0\n",
      "멜로로맨스 스릴러 0\n",
      "멜로로맨스 애니메이션 0\n",
      "멜로로맨스 액션 0\n",
      "멜로로맨스 어드벤처 0\n",
      "멜로로맨스 전쟁 0\n",
      "멜로로맨스 코미디 0\n",
      "멜로로맨스 판타지 0\n",
      "뮤지컬 미스터리 0\n",
      "뮤지컬 범죄 0\n",
      "뮤지컬 사극 0\n",
      "뮤지컬 서부극(웨스턴) 0\n",
      "뮤지컬 성인물(에로) 0\n",
      "뮤지컬 스릴러 0\n",
      "뮤지컬 애니메이션 0\n",
      "뮤지컬 액션 0\n",
      "뮤지컬 어드벤처 0\n",
      "뮤지컬 전쟁 0\n",
      "뮤지컬 코미디 0\n",
      "뮤지컬 판타지 0\n",
      "미스터리 범죄 0\n",
      "미스터리 사극 0\n",
      "미스터리 서부극(웨스턴) 0\n",
      "미스터리 성인물(에로) 0\n",
      "미스터리 스릴러 0\n",
      "미스터리 애니메이션 0\n",
      "미스터리 액션 0\n",
      "미스터리 어드벤처 0\n",
      "미스터리 전쟁 0\n",
      "미스터리 코미디 0\n",
      "미스터리 판타지 0\n",
      "범죄 사극 0\n",
      "범죄 서부극(웨스턴) 0\n",
      "범죄 성인물(에로) 0\n",
      "범죄 스릴러 0\n",
      "범죄 애니메이션 0\n",
      "범죄 액션 0\n",
      "범죄 어드벤처 0\n",
      "범죄 전쟁 0\n",
      "범죄 코미디 0\n",
      "범죄 판타지 0\n",
      "사극 서부극(웨스턴) 0\n",
      "사극 성인물(에로) 0\n",
      "사극 스릴러 0\n",
      "사극 애니메이션 0\n",
      "사극 액션 0\n",
      "사극 어드벤처 0\n",
      "사극 전쟁 0\n",
      "사극 코미디 0\n",
      "사극 판타지 0\n",
      "서부극(웨스턴) 성인물(에로) 0\n",
      "서부극(웨스턴) 스릴러 0\n",
      "서부극(웨스턴) 애니메이션 0\n",
      "서부극(웨스턴) 액션 0\n",
      "서부극(웨스턴) 어드벤처 0\n",
      "서부극(웨스턴) 전쟁 0\n",
      "서부극(웨스턴) 코미디 0\n",
      "서부극(웨스턴) 판타지 0\n",
      "성인물(에로) 스릴러 0\n",
      "성인물(에로) 애니메이션 0\n",
      "성인물(에로) 액션 0\n",
      "성인물(에로) 어드벤처 0\n",
      "성인물(에로) 전쟁 0\n",
      "성인물(에로) 코미디 0\n",
      "성인물(에로) 판타지 0\n",
      "스릴러 애니메이션 0\n",
      "스릴러 액션 0\n",
      "스릴러 어드벤처 0\n",
      "스릴러 전쟁 0\n",
      "스릴러 코미디 0\n",
      "스릴러 판타지 0\n",
      "애니메이션 액션 0\n",
      "애니메이션 어드벤처 0\n",
      "애니메이션 전쟁 0\n",
      "애니메이션 코미디 0\n",
      "애니메이션 판타지 0\n",
      "액션 어드벤처 0\n",
      "액션 전쟁 0\n",
      "액션 코미디 0\n",
      "액션 판타지 0\n",
      "어드벤처 전쟁 0\n",
      "어드벤처 코미디 0\n",
      "어드벤처 판타지 0\n",
      "전쟁 코미디 0\n",
      "전쟁 판타지 0\n",
      "코미디 판타지 0\n"
     ]
    }
   ],
   "source": [
    "for i in range(len(genre_name)-1):\n",
    "    for j in range(i+1, len(genre_name)):\n",
    "        print(genre_name[i], genre_name[j], matrix[i][j])"
   ]
  },
  {
   "cell_type": "code",
   "execution_count": 50,
   "id": "4386c422",
   "metadata": {},
   "outputs": [
    {
     "data": {
      "text/plain": [
       "<AxesSubplot:>"
      ]
     },
     "execution_count": 50,
     "metadata": {},
     "output_type": "execute_result"
    },
    {
     "data": {
      "image/png": "[encoded data removed]",
      "text/plain": [
       "<Figure size 432x288 with 2 Axes>"
      ]
     },
     "metadata": {},
     "output_type": "display_data"
    }
   ],
   "source": [
    "import numpy as np;\n",
    "import seaborn as sns;\n",
    "import matplotlib.pyplot as plt\n",
    "from sklearn.decomposition import PCA\n",
    "\n",
    "np.random.seed(0)\n",
    "\n",
    "sns.set(font='NanumGothic')\n",
    "\n",
    "plt.rcParams['axes.unicode_minus'] = False\n",
    "\n",
    "ax = sns.heatmap(matrix, xticklabels=genre_name, yticklabels=genre_name, annot=True,  cmap='RdYlGn_r')\n",
    "ax"
   ]
  }
 ],
 "metadata": {
  "kernelspec": {
   "display_name": "Python 3 (ipykernel)",
   "language": "python",
   "name": "python3"
  },
  "language_info": {
   "codemirror_mode": {
    "name": "ipython",
    "version": 3
   },
   "file_extension": ".py",
   "mimetype": "text/x-python",
   "name": "python",
   "nbconvert_exporter": "python",
   "pygments_lexer": "ipython3",
   "version": "3.9.7"
  }
 },
 "nbformat": 4,
 "nbformat_minor": 5
}
