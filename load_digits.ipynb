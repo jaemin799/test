{
  "nbformat": 4,
  "nbformat_minor": 0,
  "metadata": {
    "colab": {
      "provenance": [],
      "collapsed_sections": [],
      "authorship_tag": "ABX9TyN/XoRkxrk0ulm7/JMN0JEZ",
      "include_colab_link": true
    },
    "kernelspec": {
      "name": "python3",
      "display_name": "Python 3"
    },
    "language_info": {
      "name": "python"
    }
  },
  "cells": [
    {
      "cell_type": "markdown",
      "metadata": {
        "id": "view-in-github",
        "colab_type": "text"
      },
      "source": [
        "<a href=\"https://colab.research.google.com/github/jaemin799/test1/blob/main/load_digits.ipynb\" target=\"_parent\"><img src=\"https://colab.research.google.com/assets/colab-badge.svg\" alt=\"Open In Colab\"/></a>"
      ]
    },
    {
      "cell_type": "code",
      "execution_count": 4,
      "metadata": {
        "id": "vV9Li096ILva"
      },
      "outputs": [],
      "source": [
        "from sklearn.datasets import load_digits\n",
        "from sklearn.model_selection import train_test_split\n",
        "from sklearn.metrics import classification_report"
      ]
    },
    {
      "cell_type": "code",
      "source": [
        "load_digits"
      ],
      "metadata": {
        "colab": {
          "base_uri": "https://localhost:8080/"
        },
        "id": "TeJmrvthITQf",
        "outputId": "874c112a-ee40-47ea-df98-f6447a98eae3"
      },
      "execution_count": 5,
      "outputs": [
        {
          "output_type": "execute_result",
          "data": {
            "text/plain": [
              "<function sklearn.datasets._base.load_digits(*, n_class=10, return_X_y=False, as_frame=False)>"
            ]
          },
          "metadata": {},
          "execution_count": 5
        }
      ]
    },
    {
      "cell_type": "code",
      "source": [
        "type(load_digits)"
      ],
      "metadata": {
        "colab": {
          "base_uri": "https://localhost:8080/"
        },
        "id": "ATcJxp1MI6Vw",
        "outputId": "e415b085-2ebd-4633-f068-15e8aa6787a2"
      },
      "execution_count": 6,
      "outputs": [
        {
          "output_type": "execute_result",
          "data": {
            "text/plain": [
              "function"
            ]
          },
          "metadata": {},
          "execution_count": 6
        }
      ]
    },
    {
      "cell_type": "code",
      "source": [
        "digits = load_digits()\n",
        "print(dir(digits)) #EXPLORATION[1-3]"
      ],
      "metadata": {
        "colab": {
          "base_uri": "https://localhost:8080/"
        },
        "id": "YAS4mW5RJdhj",
        "outputId": "9ac7cda5-9805-4673-96f9-5e7d7009f288"
      },
      "execution_count": 7,
      "outputs": [
        {
          "output_type": "stream",
          "name": "stdout",
          "text": [
            "['DESCR', 'data', 'feature_names', 'frame', 'images', 'target', 'target_names']\n"
          ]
        }
      ]
    },
    {
      "cell_type": "code",
      "source": [
        "digits.data"
      ],
      "metadata": {
        "colab": {
          "base_uri": "https://localhost:8080/"
        },
        "id": "1G373K5lJ4aH",
        "outputId": "f8b44128-ebca-4200-fa5c-99d651dfe1e8"
      },
      "execution_count": 8,
      "outputs": [
        {
          "output_type": "execute_result",
          "data": {
            "text/plain": [
              "array([[ 0.,  0.,  5., ...,  0.,  0.,  0.],\n",
              "       [ 0.,  0.,  0., ..., 10.,  0.,  0.],\n",
              "       [ 0.,  0.,  0., ..., 16.,  9.,  0.],\n",
              "       ...,\n",
              "       [ 0.,  0.,  1., ...,  6.,  0.,  0.],\n",
              "       [ 0.,  0.,  2., ..., 12.,  0.,  0.],\n",
              "       [ 0.,  0., 10., ..., 12.,  1.,  0.]])"
            ]
          },
          "metadata": {},
          "execution_count": 8
        }
      ]
    },
    {
      "cell_type": "code",
      "source": [
        "digits.data.shape"
      ],
      "metadata": {
        "colab": {
          "base_uri": "https://localhost:8080/"
        },
        "id": "MJlETB2hJ-Pf",
        "outputId": "832da1d2-53e7-4117-ad6e-e5b2ada3e532"
      },
      "execution_count": 9,
      "outputs": [
        {
          "output_type": "execute_result",
          "data": {
            "text/plain": [
              "(1797, 64)"
            ]
          },
          "metadata": {},
          "execution_count": 9
        }
      ]
    },
    {
      "cell_type": "code",
      "source": [
        "digits.feature_names"
      ],
      "metadata": {
        "colab": {
          "base_uri": "https://localhost:8080/"
        },
        "id": "05zbiibPKSMl",
        "outputId": "aa39ddf1-f148-47e2-e549-2f2f255e37f2"
      },
      "execution_count": 10,
      "outputs": [
        {
          "output_type": "execute_result",
          "data": {
            "text/plain": [
              "['pixel_0_0',\n",
              " 'pixel_0_1',\n",
              " 'pixel_0_2',\n",
              " 'pixel_0_3',\n",
              " 'pixel_0_4',\n",
              " 'pixel_0_5',\n",
              " 'pixel_0_6',\n",
              " 'pixel_0_7',\n",
              " 'pixel_1_0',\n",
              " 'pixel_1_1',\n",
              " 'pixel_1_2',\n",
              " 'pixel_1_3',\n",
              " 'pixel_1_4',\n",
              " 'pixel_1_5',\n",
              " 'pixel_1_6',\n",
              " 'pixel_1_7',\n",
              " 'pixel_2_0',\n",
              " 'pixel_2_1',\n",
              " 'pixel_2_2',\n",
              " 'pixel_2_3',\n",
              " 'pixel_2_4',\n",
              " 'pixel_2_5',\n",
              " 'pixel_2_6',\n",
              " 'pixel_2_7',\n",
              " 'pixel_3_0',\n",
              " 'pixel_3_1',\n",
              " 'pixel_3_2',\n",
              " 'pixel_3_3',\n",
              " 'pixel_3_4',\n",
              " 'pixel_3_5',\n",
              " 'pixel_3_6',\n",
              " 'pixel_3_7',\n",
              " 'pixel_4_0',\n",
              " 'pixel_4_1',\n",
              " 'pixel_4_2',\n",
              " 'pixel_4_3',\n",
              " 'pixel_4_4',\n",
              " 'pixel_4_5',\n",
              " 'pixel_4_6',\n",
              " 'pixel_4_7',\n",
              " 'pixel_5_0',\n",
              " 'pixel_5_1',\n",
              " 'pixel_5_2',\n",
              " 'pixel_5_3',\n",
              " 'pixel_5_4',\n",
              " 'pixel_5_5',\n",
              " 'pixel_5_6',\n",
              " 'pixel_5_7',\n",
              " 'pixel_6_0',\n",
              " 'pixel_6_1',\n",
              " 'pixel_6_2',\n",
              " 'pixel_6_3',\n",
              " 'pixel_6_4',\n",
              " 'pixel_6_5',\n",
              " 'pixel_6_6',\n",
              " 'pixel_6_7',\n",
              " 'pixel_7_0',\n",
              " 'pixel_7_1',\n",
              " 'pixel_7_2',\n",
              " 'pixel_7_3',\n",
              " 'pixel_7_4',\n",
              " 'pixel_7_5',\n",
              " 'pixel_7_6',\n",
              " 'pixel_7_7']"
            ]
          },
          "metadata": {},
          "execution_count": 10
        }
      ]
    },
    {
      "cell_type": "code",
      "source": [
        "len(digits.feature_names)"
      ],
      "metadata": {
        "colab": {
          "base_uri": "https://localhost:8080/"
        },
        "id": "kNL1YPdbQqJ5",
        "outputId": "0dcb0fbc-739f-4959-e008-7aa9e05a4afc"
      },
      "execution_count": 19,
      "outputs": [
        {
          "output_type": "execute_result",
          "data": {
            "text/plain": [
              "64"
            ]
          },
          "metadata": {},
          "execution_count": 19
        }
      ]
    },
    {
      "cell_type": "code",
      "source": [
        "digits.keys()"
      ],
      "metadata": {
        "colab": {
          "base_uri": "https://localhost:8080/"
        },
        "id": "3ymsrOi5KWG3",
        "outputId": "bb439a9d-3e91-45f9-ccda-3b5cdb8b0641"
      },
      "execution_count": 12,
      "outputs": [
        {
          "output_type": "execute_result",
          "data": {
            "text/plain": [
              "dict_keys(['data', 'target', 'frame', 'feature_names', 'target_names', 'images', 'DESCR'])"
            ]
          },
          "metadata": {},
          "execution_count": 12
        }
      ]
    },
    {
      "cell_type": "code",
      "source": [
        "#EXPLORATION[1-8]\n",
        "digits_data = digits.data"
      ],
      "metadata": {
        "id": "HhX6-qzcK8t1"
      },
      "execution_count": 25,
      "outputs": []
    },
    {
      "cell_type": "code",
      "source": [
        "#EXPLORATION[1-4]\n",
        "import pandas as pd"
      ],
      "metadata": {
        "id": "2a7CE5RFLI4o"
      },
      "execution_count": 14,
      "outputs": []
    },
    {
      "cell_type": "code",
      "source": [
        "type(digits_data)"
      ],
      "metadata": {
        "colab": {
          "base_uri": "https://localhost:8080/"
        },
        "id": "IBfteeaoPthD",
        "outputId": "7262d51c-7bdd-49e7-b40a-3ca5662472b3"
      },
      "execution_count": 26,
      "outputs": [
        {
          "output_type": "execute_result",
          "data": {
            "text/plain": [
              "numpy.ndarray"
            ]
          },
          "metadata": {},
          "execution_count": 26
        }
      ]
    },
    {
      "cell_type": "code",
      "source": [
        "digits_data.shape"
      ],
      "metadata": {
        "colab": {
          "base_uri": "https://localhost:8080/"
        },
        "id": "jjxr9CfSPvv9",
        "outputId": "495783b4-876a-48c1-b388-a0feb0cbb098"
      },
      "execution_count": 27,
      "outputs": [
        {
          "output_type": "execute_result",
          "data": {
            "text/plain": [
              "(1797, 64)"
            ]
          },
          "metadata": {},
          "execution_count": 27
        }
      ]
    },
    {
      "cell_type": "code",
      "source": [
        "print(digits.target)"
      ],
      "metadata": {
        "colab": {
          "base_uri": "https://localhost:8080/"
        },
        "id": "m4nrEFtTR1SS",
        "outputId": "227374c5-7719-4d84-c3d2-cc4d101dff34"
      },
      "execution_count": 28,
      "outputs": [
        {
          "output_type": "stream",
          "name": "stdout",
          "text": [
            "[0 1 2 ... 8 9 8]\n"
          ]
        }
      ]
    },
    {
      "cell_type": "code",
      "source": [
        "digits.target.shape"
      ],
      "metadata": {
        "colab": {
          "base_uri": "https://localhost:8080/"
        },
        "id": "IvI3Tiy9R_J0",
        "outputId": "9842c97b-7e0e-4363-942a-569a011a93b6"
      },
      "execution_count": 29,
      "outputs": [
        {
          "output_type": "execute_result",
          "data": {
            "text/plain": [
              "(1797,)"
            ]
          },
          "metadata": {},
          "execution_count": 29
        }
      ]
    },
    {
      "cell_type": "code",
      "source": [
        "print(digits.target_names)"
      ],
      "metadata": {
        "colab": {
          "base_uri": "https://localhost:8080/"
        },
        "id": "_gqEs7UoSDpE",
        "outputId": "2812e405-e6f5-4249-997e-b06e44e478b2"
      },
      "execution_count": 31,
      "outputs": [
        {
          "output_type": "stream",
          "name": "stdout",
          "text": [
            "[0 1 2 3 4 5 6 7 8 9]\n"
          ]
        }
      ]
    },
    {
      "cell_type": "code",
      "source": [
        "digits_label = digits.target\n",
        "print(digits_label.shape)"
      ],
      "metadata": {
        "colab": {
          "base_uri": "https://localhost:8080/"
        },
        "id": "vt0RkX-5SkRa",
        "outputId": "ac37ba2c-7c25-4e76-ccd4-4313e5a54d89"
      },
      "execution_count": 32,
      "outputs": [
        {
          "output_type": "stream",
          "name": "stdout",
          "text": [
            "(1797,)\n"
          ]
        }
      ]
    },
    {
      "cell_type": "code",
      "source": [
        "x_train, x_test, y_train, y_test = train_test_split(digits_data, digits_label, test_size=0.2)"
      ],
      "metadata": {
        "id": "tF7o3a8sSsMC"
      },
      "execution_count": 34,
      "outputs": []
    },
    {
      "cell_type": "code",
      "source": [
        "print(x_train.shape, y_train.shape)\n",
        "print(x_test.shape, y_test.shape)"
      ],
      "metadata": {
        "colab": {
          "base_uri": "https://localhost:8080/"
        },
        "id": "IiZH3ar9S8ir",
        "outputId": "7d3fbc94-7508-4070-e129-9b83d8b75458"
      },
      "execution_count": 35,
      "outputs": [
        {
          "output_type": "stream",
          "name": "stdout",
          "text": [
            "(1437, 64) (1437,)\n",
            "(360, 64) (360,)\n"
          ]
        }
      ]
    },
    {
      "cell_type": "code",
      "source": [
        "from sklearn.tree import DecisionTreeClassifier\n",
        "dt = DecisionTreeClassifier()\n",
        "dt.fit(x_train, y_train)"
      ],
      "metadata": {
        "colab": {
          "base_uri": "https://localhost:8080/"
        },
        "id": "sNMg7ewyTKJh",
        "outputId": "6b0934f7-3bb5-4ff3-d3e7-0215ee75dd1d"
      },
      "execution_count": 36,
      "outputs": [
        {
          "output_type": "execute_result",
          "data": {
            "text/plain": [
              "DecisionTreeClassifier()"
            ]
          },
          "metadata": {},
          "execution_count": 36
        }
      ]
    },
    {
      "cell_type": "code",
      "source": [
        "y_pred = dt.predict(x_test)\n",
        "print(y_pred)"
      ],
      "metadata": {
        "colab": {
          "base_uri": "https://localhost:8080/"
        },
        "id": "ljs9cKOPTgXr",
        "outputId": "20f6b772-2c58-49ed-89e7-1a51880d819e"
      },
      "execution_count": 40,
      "outputs": [
        {
          "output_type": "stream",
          "name": "stdout",
          "text": [
            "[7 5 7 3 2 1 4 5 4 2 7 2 7 2 5 2 4 0 7 0 1 7 2 1 7 7 8 8 8 0 6 5 1 2 2 3 4\n",
            " 2 5 7 5 0 5 7 8 0 8 8 0 1 4 4 0 3 7 2 9 9 8 6 0 6 7 3 0 8 6 7 7 1 0 3 0 1\n",
            " 1 1 2 4 6 9 6 8 1 8 9 8 2 3 3 7 3 9 7 4 0 5 3 2 3 3 7 6 3 0 9 4 1 3 7 4 4\n",
            " 5 1 6 9 7 3 7 0 6 3 8 0 8 2 3 8 7 4 1 3 8 0 7 9 6 8 0 4 1 0 1 7 4 3 6 0 1\n",
            " 6 8 5 4 1 1 7 0 0 8 9 3 9 8 5 4 3 2 3 2 7 2 6 1 4 3 1 0 2 2 7 6 0 4 5 1 2\n",
            " 4 4 3 0 1 7 5 7 5 3 1 3 5 5 7 3 9 4 6 1 7 4 7 7 5 7 0 4 7 2 7 6 5 3 6 8 1\n",
            " 6 9 2 1 5 2 4 3 1 8 7 8 2 7 7 8 6 4 3 6 6 8 4 5 7 3 2 5 7 2 0 5 6 4 6 4 3\n",
            " 9 5 1 5 2 4 6 1 4 9 6 9 9 0 8 5 5 3 3 5 5 9 2 4 6 9 3 4 4 6 2 9 6 1 0 9 3\n",
            " 1 8 9 8 6 7 4 3 2 3 1 2 5 3 4 5 3 0 9 2 2 6 6 0 4 4 9 6 9 5 9 6 7 5 1 9 8\n",
            " 5 2 1 0 0 2 9 3 9 6 6 7 6 5 9 5 7 3 2 7 1 5 6 8 5 8 7]\n"
          ]
        }
      ]
    },
    {
      "cell_type": "code",
      "source": [
        "print(y_test)"
      ],
      "metadata": {
        "colab": {
          "base_uri": "https://localhost:8080/"
        },
        "id": "W4wUTSYPT8dD",
        "outputId": "a0637384-b947-4e29-e527-bf200096c539"
      },
      "execution_count": 41,
      "outputs": [
        {
          "output_type": "stream",
          "name": "stdout",
          "text": [
            "[8 9 7 3 2 1 4 5 4 2 7 2 7 2 5 2 4 0 7 0 1 9 2 1 7 7 8 8 2 0 6 5 1 8 2 3 4\n",
            " 2 5 7 5 0 5 7 9 0 8 8 0 1 4 4 0 3 7 2 9 9 8 6 0 6 7 3 0 8 6 7 3 4 0 3 0 1\n",
            " 8 1 2 2 6 9 6 8 1 0 9 1 2 3 3 7 3 9 7 4 0 5 3 2 8 3 7 6 3 0 9 4 1 3 9 4 4\n",
            " 5 1 6 9 7 3 7 0 6 3 8 0 8 2 3 8 7 4 1 3 8 0 7 9 6 0 0 0 1 0 1 7 4 3 6 0 1\n",
            " 6 4 5 4 1 1 7 6 0 8 9 8 9 8 5 4 9 2 3 2 7 2 6 1 4 3 1 0 2 2 7 6 0 2 5 1 2\n",
            " 4 4 3 0 1 7 8 7 5 3 1 3 5 5 7 8 9 4 6 1 7 4 7 7 8 7 0 4 7 2 7 6 5 5 6 1 1\n",
            " 6 9 2 1 5 2 4 3 1 8 7 8 2 7 7 1 6 4 3 2 1 8 4 7 7 8 2 5 7 2 0 5 6 4 4 4 3\n",
            " 9 5 1 5 2 4 6 1 4 9 6 3 9 0 8 5 5 3 3 5 2 9 2 4 6 9 3 0 6 6 1 9 6 1 0 8 3\n",
            " 1 8 9 9 6 7 6 8 2 8 1 2 5 8 4 5 3 0 9 2 2 2 5 6 4 4 9 5 9 5 9 6 7 5 1 9 8\n",
            " 5 2 1 0 0 2 9 3 8 6 5 7 6 5 9 5 7 3 2 7 1 5 6 8 5 8 7]\n"
          ]
        }
      ]
    },
    {
      "cell_type": "code",
      "source": [
        "#EXPLORATION[1-6]\n",
        "from sklearn.metrics import accuracy_score\n",
        "\n",
        "accuracy = accuracy_score(y_test, y_pred)\n",
        "accuracy"
      ],
      "metadata": {
        "colab": {
          "base_uri": "https://localhost:8080/"
        },
        "id": "4CQt4Q70Trei",
        "outputId": "6e9fe860-ae69-4ba9-85f6-b6fcbde7f110"
      },
      "execution_count": 42,
      "outputs": [
        {
          "output_type": "execute_result",
          "data": {
            "text/plain": [
              "0.8638888888888889"
            ]
          },
          "metadata": {},
          "execution_count": 42
        }
      ]
    },
    {
      "cell_type": "code",
      "source": [
        "print(classification_report(y_test, y_pred))"
      ],
      "metadata": {
        "colab": {
          "base_uri": "https://localhost:8080/"
        },
        "id": "AclAU3anTxY1",
        "outputId": "9764faab-73e7-4039-b873-10eb10f9d13c"
      },
      "execution_count": 43,
      "outputs": [
        {
          "output_type": "stream",
          "name": "stdout",
          "text": [
            "              precision    recall  f1-score   support\n",
            "\n",
            "           0       0.94      0.88      0.91        34\n",
            "           1       0.94      0.87      0.90        38\n",
            "           2       0.94      0.85      0.89        40\n",
            "           3       0.78      0.94      0.85        34\n",
            "           4       0.84      0.91      0.87        34\n",
            "           5       0.86      0.89      0.88        36\n",
            "           6       0.81      0.88      0.85        34\n",
            "           7       0.91      0.98      0.94        43\n",
            "           8       0.70      0.60      0.65        35\n",
            "           9       0.90      0.81      0.85        32\n",
            "\n",
            "    accuracy                           0.86       360\n",
            "   macro avg       0.86      0.86      0.86       360\n",
            "weighted avg       0.87      0.86      0.86       360\n",
            "\n"
          ]
        }
      ]
    },
    {
      "cell_type": "code",
      "source": [
        "data_frame = pd.DataFrame(data = )"
      ],
      "metadata": {
        "id": "XQ2vVXcAUvZU"
      },
      "execution_count": null,
      "outputs": []
    }
  ]
}